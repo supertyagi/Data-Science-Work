{
 "cells": [
  {
   "cell_type": "code",
   "execution_count": 1,
   "metadata": {},
   "outputs": [],
   "source": [
    "import pandas as pd\n",
    "from datetime import date\n",
    "import numpy as np\n",
    "import matplotlib.pyplot as plt\n",
    "import seaborn as sns"
   ]
  },
  {
   "cell_type": "code",
   "execution_count": 4,
   "metadata": {},
   "outputs": [],
   "source": [
    "df = pd.read_pickle('../datasets/florida_hurricane_dates.pkl')"
   ]
  },
  {
   "cell_type": "code",
   "execution_count": 5,
   "metadata": {},
   "outputs": [
    {
     "name": "stdout",
     "output_type": "stream",
     "text": [
      "0\n"
     ]
    }
   ],
   "source": [
    "# Import date from datetime\n",
    "from datetime import date\n",
    "\n",
    "# Create a date object\n",
    "hurricane_andrew = date(1992, 8, 24)\n",
    "\n",
    "# Which day of the week is the date?\n",
    "print(hurricane_andrew.weekday())"
   ]
  },
  {
   "cell_type": "code",
   "execution_count": 8,
   "metadata": {},
   "outputs": [
    {
     "data": {
      "text/plain": [
       "[datetime.date(1988, 8, 4),\n",
       " datetime.date(1990, 10, 12),\n",
       " datetime.date(2003, 4, 20),\n",
       " datetime.date(1971, 9, 1),\n",
       " datetime.date(1988, 8, 23),\n",
       " datetime.date(1994, 8, 15),\n",
       " datetime.date(2002, 8, 4),\n",
       " datetime.date(1988, 5, 30),\n",
       " datetime.date(2003, 9, 13),\n",
       " datetime.date(2009, 8, 21),\n",
       " datetime.date(1978, 6, 22),\n",
       " datetime.date(1969, 6, 9),\n",
       " datetime.date(1976, 6, 11),\n",
       " datetime.date(1976, 8, 19),\n",
       " datetime.date(1966, 6, 9),\n",
       " datetime.date(1968, 7, 5),\n",
       " datetime.date(1987, 11, 4),\n",
       " datetime.date(1988, 8, 13),\n",
       " datetime.date(2007, 12, 13),\n",
       " datetime.date(1994, 11, 16),\n",
       " datetime.date(2003, 9, 6),\n",
       " datetime.date(1971, 8, 13),\n",
       " datetime.date(1981, 8, 17),\n",
       " datetime.date(1998, 9, 25),\n",
       " datetime.date(1968, 9, 26),\n",
       " datetime.date(1968, 6, 4),\n",
       " datetime.date(1998, 11, 5),\n",
       " datetime.date(2008, 8, 18),\n",
       " datetime.date(1987, 8, 14),\n",
       " datetime.date(1988, 11, 23),\n",
       " datetime.date(2010, 9, 29),\n",
       " datetime.date(1985, 7, 23),\n",
       " datetime.date(2017, 7, 31),\n",
       " datetime.date(1955, 8, 21),\n",
       " datetime.date(1986, 6, 26),\n",
       " datetime.date(1963, 10, 21),\n",
       " datetime.date(2011, 10, 28),\n",
       " datetime.date(2011, 11, 9),\n",
       " datetime.date(1997, 7, 19),\n",
       " datetime.date(2007, 6, 2),\n",
       " datetime.date(2002, 9, 14),\n",
       " datetime.date(1992, 9, 29),\n",
       " datetime.date(1971, 10, 13),\n",
       " datetime.date(1962, 8, 26),\n",
       " datetime.date(1964, 8, 27),\n",
       " datetime.date(1984, 9, 27),\n",
       " datetime.date(1973, 9, 25),\n",
       " datetime.date(1969, 10, 21),\n",
       " datetime.date(1994, 7, 3),\n",
       " datetime.date(1958, 9, 4),\n",
       " datetime.date(1985, 11, 21),\n",
       " datetime.date(2011, 9, 3),\n",
       " datetime.date(1972, 6, 19),\n",
       " datetime.date(1991, 6, 30),\n",
       " datetime.date(2004, 8, 12),\n",
       " datetime.date(2007, 9, 8),\n",
       " datetime.date(1952, 2, 3),\n",
       " datetime.date(1965, 9, 30),\n",
       " datetime.date(2000, 9, 22),\n",
       " datetime.date(2002, 9, 26),\n",
       " datetime.date(1950, 9, 5),\n",
       " datetime.date(1966, 10, 4),\n",
       " datetime.date(1970, 5, 25),\n",
       " datetime.date(1979, 9, 24),\n",
       " datetime.date(1960, 9, 23),\n",
       " datetime.date(2007, 8, 23),\n",
       " datetime.date(2009, 8, 16),\n",
       " datetime.date(1996, 10, 18),\n",
       " datetime.date(2012, 10, 25),\n",
       " datetime.date(2011, 8, 25),\n",
       " datetime.date(1951, 5, 18),\n",
       " datetime.date(1980, 8, 7),\n",
       " datetime.date(1979, 9, 3),\n",
       " datetime.date(1953, 9, 26),\n",
       " datetime.date(1968, 10, 19),\n",
       " datetime.date(2009, 11, 9),\n",
       " datetime.date(1999, 8, 29),\n",
       " datetime.date(2015, 10, 1),\n",
       " datetime.date(2008, 9, 2),\n",
       " datetime.date(2004, 10, 10),\n",
       " datetime.date(2004, 9, 16),\n",
       " datetime.date(1992, 8, 24),\n",
       " datetime.date(2000, 9, 9),\n",
       " datetime.date(1971, 9, 16),\n",
       " datetime.date(1996, 9, 2),\n",
       " datetime.date(1998, 9, 3),\n",
       " datetime.date(1951, 10, 2),\n",
       " datetime.date(1979, 9, 12),\n",
       " datetime.date(2007, 10, 31),\n",
       " datetime.date(1953, 10, 9),\n",
       " datetime.date(1952, 8, 30),\n",
       " datetime.date(1969, 9, 7),\n",
       " datetime.date(2015, 8, 30),\n",
       " datetime.date(1959, 10, 8),\n",
       " datetime.date(2002, 7, 13),\n",
       " datetime.date(1961, 10, 29),\n",
       " datetime.date(2007, 5, 9),\n",
       " datetime.date(2016, 10, 7),\n",
       " datetime.date(1964, 9, 20),\n",
       " datetime.date(1979, 7, 11),\n",
       " datetime.date(1950, 10, 18),\n",
       " datetime.date(2008, 8, 31),\n",
       " datetime.date(2012, 8, 25),\n",
       " datetime.date(1966, 7, 24),\n",
       " datetime.date(2010, 8, 10),\n",
       " datetime.date(2005, 8, 25),\n",
       " datetime.date(2003, 6, 30),\n",
       " datetime.date(1956, 7, 6),\n",
       " datetime.date(1974, 9, 8),\n",
       " datetime.date(1966, 6, 30),\n",
       " datetime.date(2016, 9, 14),\n",
       " datetime.date(1968, 6, 18),\n",
       " datetime.date(1982, 9, 11),\n",
       " datetime.date(1976, 9, 13),\n",
       " datetime.date(1975, 7, 29),\n",
       " datetime.date(2007, 9, 13),\n",
       " datetime.date(1970, 9, 27),\n",
       " datetime.date(1969, 10, 2),\n",
       " datetime.date(2010, 8, 31),\n",
       " datetime.date(1995, 10, 4),\n",
       " datetime.date(1969, 8, 29),\n",
       " datetime.date(1984, 10, 26),\n",
       " datetime.date(1973, 9, 3),\n",
       " datetime.date(1976, 5, 23),\n",
       " datetime.date(2001, 11, 5),\n",
       " datetime.date(2010, 6, 30),\n",
       " datetime.date(1985, 10, 10),\n",
       " datetime.date(1970, 7, 22),\n",
       " datetime.date(1972, 5, 28),\n",
       " datetime.date(1982, 6, 18),\n",
       " datetime.date(2001, 8, 6),\n",
       " datetime.date(1953, 8, 29),\n",
       " datetime.date(1965, 9, 8),\n",
       " datetime.date(1964, 9, 10),\n",
       " datetime.date(1959, 10, 18),\n",
       " datetime.date(1957, 6, 8),\n",
       " datetime.date(1988, 9, 10),\n",
       " datetime.date(2005, 6, 11),\n",
       " datetime.date(1953, 6, 6),\n",
       " datetime.date(2003, 8, 30),\n",
       " datetime.date(2002, 10, 3),\n",
       " datetime.date(1968, 8, 10),\n",
       " datetime.date(1999, 10, 15),\n",
       " datetime.date(2002, 9, 4),\n",
       " datetime.date(2001, 6, 12),\n",
       " datetime.date(2017, 9, 10),\n",
       " datetime.date(2005, 10, 5),\n",
       " datetime.date(2005, 7, 10),\n",
       " datetime.date(1973, 6, 7),\n",
       " datetime.date(1999, 9, 15),\n",
       " datetime.date(2005, 9, 20),\n",
       " datetime.date(1995, 6, 5),\n",
       " datetime.date(2003, 7, 25),\n",
       " datetime.date(2004, 9, 13),\n",
       " datetime.date(1964, 6, 6),\n",
       " datetime.date(1973, 6, 23),\n",
       " datetime.date(2005, 9, 12),\n",
       " datetime.date(2012, 6, 23),\n",
       " datetime.date(1961, 9, 11),\n",
       " datetime.date(1990, 5, 25),\n",
       " datetime.date(2017, 6, 21),\n",
       " datetime.date(1975, 6, 27),\n",
       " datetime.date(1959, 6, 18),\n",
       " datetime.date(2004, 9, 5),\n",
       " datetime.date(1987, 10, 12),\n",
       " datetime.date(1995, 7, 27),\n",
       " datetime.date(1964, 10, 14),\n",
       " datetime.date(1970, 8, 6),\n",
       " datetime.date(1969, 10, 1),\n",
       " datetime.date(1996, 10, 8),\n",
       " datetime.date(1968, 8, 28),\n",
       " datetime.date(1956, 10, 15),\n",
       " datetime.date(1975, 9, 23),\n",
       " datetime.date(1970, 9, 13),\n",
       " datetime.date(1975, 10, 16),\n",
       " datetime.date(1990, 10, 9),\n",
       " datetime.date(2005, 10, 24),\n",
       " datetime.date(1950, 8, 31),\n",
       " datetime.date(2000, 10, 3),\n",
       " datetime.date(2002, 10, 11),\n",
       " datetime.date(1983, 8, 28),\n",
       " datetime.date(1960, 7, 29),\n",
       " datetime.date(1950, 10, 21),\n",
       " datetime.date(1995, 8, 2),\n",
       " datetime.date(1956, 9, 24),\n",
       " datetime.date(2016, 9, 1),\n",
       " datetime.date(1993, 6, 1),\n",
       " datetime.date(1987, 9, 7),\n",
       " datetime.date(2012, 5, 28),\n",
       " datetime.date(1995, 8, 23),\n",
       " datetime.date(1969, 8, 18),\n",
       " datetime.date(2001, 9, 14),\n",
       " datetime.date(2000, 8, 23),\n",
       " datetime.date(1974, 10, 7),\n",
       " datetime.date(1986, 8, 13),\n",
       " datetime.date(1977, 8, 27),\n",
       " datetime.date(2008, 7, 16),\n",
       " datetime.date(1996, 7, 11),\n",
       " datetime.date(1988, 9, 4),\n",
       " datetime.date(1975, 10, 1),\n",
       " datetime.date(2003, 8, 14),\n",
       " datetime.date(1957, 9, 8),\n",
       " datetime.date(2005, 7, 6),\n",
       " datetime.date(1960, 9, 15),\n",
       " datetime.date(1974, 9, 27),\n",
       " datetime.date(1965, 6, 15),\n",
       " datetime.date(1999, 9, 21),\n",
       " datetime.date(2004, 8, 13),\n",
       " datetime.date(1994, 10, 2),\n",
       " datetime.date(1971, 8, 10),\n",
       " datetime.date(2008, 7, 22),\n",
       " datetime.date(2000, 9, 18),\n",
       " datetime.date(1960, 9, 10),\n",
       " datetime.date(2006, 6, 13),\n",
       " datetime.date(2017, 10, 29),\n",
       " datetime.date(1972, 9, 5),\n",
       " datetime.date(1964, 10, 5),\n",
       " datetime.date(1991, 10, 16),\n",
       " datetime.date(1969, 9, 21),\n",
       " datetime.date(1998, 9, 20),\n",
       " datetime.date(1977, 9, 5),\n",
       " datetime.date(1988, 9, 13),\n",
       " datetime.date(1974, 6, 25),\n",
       " datetime.date(2010, 7, 23),\n",
       " datetime.date(2007, 9, 22),\n",
       " datetime.date(1984, 9, 9),\n",
       " datetime.date(1989, 9, 22),\n",
       " datetime.date(1992, 6, 25),\n",
       " datetime.date(1971, 8, 29),\n",
       " datetime.date(1953, 9, 20),\n",
       " datetime.date(1985, 8, 15),\n",
       " datetime.date(2016, 6, 6),\n",
       " datetime.date(2006, 8, 30),\n",
       " datetime.date(1980, 11, 18),\n",
       " datetime.date(2011, 7, 18)]"
      ]
     },
     "execution_count": 8,
     "metadata": {},
     "output_type": "execute_result"
    }
   ],
   "source": [
    "df"
   ]
  },
  {
   "cell_type": "code",
   "execution_count": 9,
   "metadata": {},
   "outputs": [
    {
     "name": "stdout",
     "output_type": "stream",
     "text": [
      "10\n"
     ]
    }
   ],
   "source": [
    "# Counter for how many before June 1\n",
    "early_hurricanes = 0\n",
    "\n",
    "# We loop over the dates\n",
    "for hurricane in df:\n",
    "  # Check if the month is before June (month number 6)\n",
    "  if hurricane.month < 6:\n",
    "    early_hurricanes = early_hurricanes + 1\n",
    "    \n",
    "print(early_hurricanes)"
   ]
  },
  {
   "cell_type": "code",
   "execution_count": 10,
   "metadata": {},
   "outputs": [
    {
     "name": "stdout",
     "output_type": "stream",
     "text": [
      "218\n"
     ]
    }
   ],
   "source": [
    "# Import date\n",
    "# from datetime import date\n",
    "\n",
    "# Create a date object for May 9th, 2007\n",
    "start = date(2007, 5, 9)\n",
    "\n",
    "# Create a date object for December 13th, 2007\n",
    "end = date(2007, 12, 13)\n",
    "\n",
    "# Subtract the two dates and print the number of days\n",
    "print((end - start).days)"
   ]
  },
  {
   "cell_type": "code",
   "execution_count": 11,
   "metadata": {},
   "outputs": [
    {
     "name": "stdout",
     "output_type": "stream",
     "text": [
      "{1: 0, 2: 1, 3: 0, 4: 1, 5: 8, 6: 32, 7: 21, 8: 49, 9: 70, 10: 43, 11: 9, 12: 1}\n"
     ]
    }
   ],
   "source": [
    "# A dictionary to count hurricanes per calendar month\n",
    "hurricanes_each_month = {1: 0, 2: 0, 3: 0, 4: 0, 5: 0, 6:0,\n",
    "\t\t  \t\t\t\t 7: 0, 8:0, 9:0, 10:0, 11:0, 12:0}\n",
    "\n",
    "# Loop over all hurricanes\n",
    "for hurricane in df:\n",
    "  # Pull out the month\n",
    "  month = hurricane.month\n",
    "  # Increment the count in your dictionary by one\n",
    "  hurricanes_each_month[month] += 1\n",
    "  \n",
    "print(hurricanes_each_month)"
   ]
  },
  {
   "cell_type": "code",
   "execution_count": 12,
   "metadata": {},
   "outputs": [],
   "source": [
    "# # Print the first and last scrambled dates\n",
    "# print(dates_scrambled[0])\n",
    "# print(dates_scrambled[-1])\n",
    "\n",
    "# # Put the dates in order\n",
    "# dates_ordered = sorted(dates_scrambled)\n",
    "\n",
    "# # Print the first and last ordered dates\n",
    "# print(dates_ordered[0])\n",
    "# print(dates_ordered[-1])"
   ]
  },
  {
   "cell_type": "code",
   "execution_count": 13,
   "metadata": {},
   "outputs": [
    {
     "name": "stdout",
     "output_type": "stream",
     "text": [
      "ISO: Our earliest hurricane date: 1950-08-31\n",
      "US: Our earliest hurricane date: 08/31/1950\n"
     ]
    }
   ],
   "source": [
    "# Assign the earliest date to first_date\n",
    "first_date = min(df)\n",
    "\n",
    "# Convert to ISO and US formats\n",
    "iso = \"Our earliest hurricane date: \" + first_date.isoformat()\n",
    "us = \"Our earliest hurricane date: \" + first_date.strftime('%m/%d/%Y')\n",
    "\n",
    "print(\"ISO: \" + iso)\n",
    "print(\"US: \" + us)"
   ]
  },
  {
   "cell_type": "code",
   "execution_count": 14,
   "metadata": {},
   "outputs": [
    {
     "name": "stdout",
     "output_type": "stream",
     "text": [
      "1992-239\n"
     ]
    }
   ],
   "source": [
    "# Import date\n",
    "from datetime import date\n",
    "\n",
    "# Create a date object\n",
    "andrew = date(1992, 8, 26)\n",
    "\n",
    "# Print the date in the format 'YYYY-DDD'\n",
    "print(andrew.strftime('%Y-%j'))"
   ]
  },
  {
   "cell_type": "code",
   "execution_count": 15,
   "metadata": {},
   "outputs": [
    {
     "name": "stdout",
     "output_type": "stream",
     "text": [
      "August (1992)\n"
     ]
    }
   ],
   "source": [
    "# Import date\n",
    "from datetime import date\n",
    "\n",
    "# Create a date object\n",
    "andrew = date(1992, 8, 26)\n",
    "\n",
    "# Print the date in the format 'MONTH (YYYY)'\n",
    "print(andrew.strftime('%B (%Y)'))"
   ]
  },
  {
   "cell_type": "code",
   "execution_count": 16,
   "metadata": {},
   "outputs": [
    {
     "name": "stdout",
     "output_type": "stream",
     "text": [
      "2017-10-01T15:26:26\n"
     ]
    }
   ],
   "source": [
    "# Import datetime\n",
    "from datetime import datetime\n",
    "\n",
    "# Create a datetime object\n",
    "dt = datetime(2017, 10, 1, 15, 26, 26)\n",
    "\n",
    "# Print the results in ISO 8601 format\n",
    "print(dt.isoformat())"
   ]
  },
  {
   "cell_type": "code",
   "execution_count": 17,
   "metadata": {},
   "outputs": [
    {
     "name": "stdout",
     "output_type": "stream",
     "text": [
      "2017-12-31T15:19:13\n"
     ]
    }
   ],
   "source": [
    "# Import datetime\n",
    "# from datetime import datetime\n",
    "\n",
    "# Create a datetime object\n",
    "dt = datetime(2017, 12, 31, 15, 19, 13)\n",
    "\n",
    "# Print the results in ISO 8601 format\n",
    "print(dt.isoformat())"
   ]
  },
  {
   "cell_type": "code",
   "execution_count": 18,
   "metadata": {},
   "outputs": [
    {
     "name": "stdout",
     "output_type": "stream",
     "text": [
      "1917-12-31 15:19:13\n"
     ]
    }
   ],
   "source": [
    "# Import datetime\n",
    "# from datetime import datetime\n",
    "\n",
    "# Create a datetime object\n",
    "dt = datetime(2017, 12, 31, 15, 19, 13)\n",
    "\n",
    "# Replace the year with 1917\n",
    "dt_old = dt.replace(year=1917)\n",
    "\n",
    "# Print the results in ISO 8601 format\n",
    "print(dt_old)"
   ]
  },
  {
   "cell_type": "code",
   "execution_count": 19,
   "metadata": {},
   "outputs": [],
   "source": [
    "bike = pd.read_csv('../datasets/capital-onebike.csv')"
   ]
  },
  {
   "cell_type": "code",
   "execution_count": 20,
   "metadata": {},
   "outputs": [
    {
     "data": {
      "text/html": [
       "<div>\n",
       "<style scoped>\n",
       "    .dataframe tbody tr th:only-of-type {\n",
       "        vertical-align: middle;\n",
       "    }\n",
       "\n",
       "    .dataframe tbody tr th {\n",
       "        vertical-align: top;\n",
       "    }\n",
       "\n",
       "    .dataframe thead th {\n",
       "        text-align: right;\n",
       "    }\n",
       "</style>\n",
       "<table border=\"1\" class=\"dataframe\">\n",
       "  <thead>\n",
       "    <tr style=\"text-align: right;\">\n",
       "      <th></th>\n",
       "      <th>Start date</th>\n",
       "      <th>End date</th>\n",
       "      <th>Start station number</th>\n",
       "      <th>Start station</th>\n",
       "      <th>End station number</th>\n",
       "      <th>End station</th>\n",
       "      <th>Bike number</th>\n",
       "      <th>Member type</th>\n",
       "    </tr>\n",
       "  </thead>\n",
       "  <tbody>\n",
       "    <tr>\n",
       "      <td>0</td>\n",
       "      <td>2017-10-01 15:23:25</td>\n",
       "      <td>2017-10-01 15:26:26</td>\n",
       "      <td>31038</td>\n",
       "      <td>Glebe Rd &amp; 11th St N</td>\n",
       "      <td>31036</td>\n",
       "      <td>George Mason Dr &amp; Wilson Blvd</td>\n",
       "      <td>W20529</td>\n",
       "      <td>Member</td>\n",
       "    </tr>\n",
       "    <tr>\n",
       "      <td>1</td>\n",
       "      <td>2017-10-01 15:42:57</td>\n",
       "      <td>2017-10-01 17:49:59</td>\n",
       "      <td>31036</td>\n",
       "      <td>George Mason Dr &amp; Wilson Blvd</td>\n",
       "      <td>31036</td>\n",
       "      <td>George Mason Dr &amp; Wilson Blvd</td>\n",
       "      <td>W20529</td>\n",
       "      <td>Casual</td>\n",
       "    </tr>\n",
       "    <tr>\n",
       "      <td>2</td>\n",
       "      <td>2017-10-02 06:37:10</td>\n",
       "      <td>2017-10-02 06:42:53</td>\n",
       "      <td>31036</td>\n",
       "      <td>George Mason Dr &amp; Wilson Blvd</td>\n",
       "      <td>31037</td>\n",
       "      <td>Ballston Metro / N Stuart &amp; 9th St N</td>\n",
       "      <td>W20529</td>\n",
       "      <td>Member</td>\n",
       "    </tr>\n",
       "    <tr>\n",
       "      <td>3</td>\n",
       "      <td>2017-10-02 08:56:45</td>\n",
       "      <td>2017-10-02 09:18:03</td>\n",
       "      <td>31037</td>\n",
       "      <td>Ballston Metro / N Stuart &amp; 9th St N</td>\n",
       "      <td>31295</td>\n",
       "      <td>Potomac &amp; M St NW</td>\n",
       "      <td>W20529</td>\n",
       "      <td>Member</td>\n",
       "    </tr>\n",
       "    <tr>\n",
       "      <td>4</td>\n",
       "      <td>2017-10-02 18:23:48</td>\n",
       "      <td>2017-10-02 18:45:05</td>\n",
       "      <td>31295</td>\n",
       "      <td>Potomac &amp; M St NW</td>\n",
       "      <td>31230</td>\n",
       "      <td>Metro Center / 12th &amp; G St NW</td>\n",
       "      <td>W20529</td>\n",
       "      <td>Member</td>\n",
       "    </tr>\n",
       "  </tbody>\n",
       "</table>\n",
       "</div>"
      ],
      "text/plain": [
       "            Start date             End date  Start station number  \\\n",
       "0  2017-10-01 15:23:25  2017-10-01 15:26:26                 31038   \n",
       "1  2017-10-01 15:42:57  2017-10-01 17:49:59                 31036   \n",
       "2  2017-10-02 06:37:10  2017-10-02 06:42:53                 31036   \n",
       "3  2017-10-02 08:56:45  2017-10-02 09:18:03                 31037   \n",
       "4  2017-10-02 18:23:48  2017-10-02 18:45:05                 31295   \n",
       "\n",
       "                          Start station  End station number  \\\n",
       "0                  Glebe Rd & 11th St N               31036   \n",
       "1         George Mason Dr & Wilson Blvd               31036   \n",
       "2         George Mason Dr & Wilson Blvd               31037   \n",
       "3  Ballston Metro / N Stuart & 9th St N               31295   \n",
       "4                     Potomac & M St NW               31230   \n",
       "\n",
       "                            End station Bike number Member type  \n",
       "0         George Mason Dr & Wilson Blvd      W20529      Member  \n",
       "1         George Mason Dr & Wilson Blvd      W20529      Casual  \n",
       "2  Ballston Metro / N Stuart & 9th St N      W20529      Member  \n",
       "3                     Potomac & M St NW      W20529      Member  \n",
       "4         Metro Center / 12th & G St NW      W20529      Member  "
      ]
     },
     "execution_count": 20,
     "metadata": {},
     "output_type": "execute_result"
    }
   ],
   "source": [
    "bike.head()"
   ]
  },
  {
   "cell_type": "code",
   "execution_count": 21,
   "metadata": {},
   "outputs": [],
   "source": [
    "# onebike = [{'start': start, 'end': end} start = st. for st in bike['Start date'] ]"
   ]
  },
  {
   "cell_type": "code",
   "execution_count": 22,
   "metadata": {},
   "outputs": [],
   "source": [
    "# # Create dictionary to hold results\n",
    "# trip_counts = {'AM': 0, 'PM': 0}\n",
    "  \n",
    "# # Loop over all trips\n",
    "# for trip in onebike_datetimes:\n",
    "#   # Check to see if the trip starts before noon\n",
    "#   if trip['start'].hour < 12:\n",
    "#     # Increment the counter for before noon\n",
    "#     trip_counts['AM'] += 1\n",
    "#   else:\n",
    "#     # Increment the counter for after noon\n",
    "#     trip_counts['PM'] += 1\n",
    "  \n",
    "# print(trip_counts)"
   ]
  },
  {
   "cell_type": "code",
   "execution_count": 24,
   "metadata": {},
   "outputs": [],
   "source": [
    "all_dates = []\n",
    "for bikes in bike['Start date']:\n",
    "    dt = bikes[0:10].split('-')\n",
    "    all_dates.append(dt)"
   ]
  },
  {
   "cell_type": "code",
   "execution_count": 27,
   "metadata": {},
   "outputs": [],
   "source": [
    "real_dates = []\n",
    "for dates in all_dates:\n",
    "    dt1 = date(year = int(dates[0]), month = int(dates[1]), day = int(dates[2]))\n",
    "    real_dates.append(dt1)"
   ]
  },
  {
   "cell_type": "code",
   "execution_count": 28,
   "metadata": {},
   "outputs": [
    {
     "data": {
      "text/plain": [
       "datetime.date(2017, 10, 1)"
      ]
     },
     "execution_count": 28,
     "metadata": {},
     "output_type": "execute_result"
    }
   ],
   "source": [
    "real_dates[0]"
   ]
  },
  {
   "cell_type": "code",
   "execution_count": 29,
   "metadata": {},
   "outputs": [
    {
     "name": "stdout",
     "output_type": "stream",
     "text": [
      "1986-12-15 08:00:00\n"
     ]
    }
   ],
   "source": [
    "# Import the datetime class\n",
    "# from datetime import datetime\n",
    "\n",
    "# Starting string, in MM/DD/YYYY HH:MM:SS format\n",
    "s = '12/15/1986 08:00:00'\n",
    "\n",
    "# Write a format string to parse s\n",
    "fmt = '%m/%d/%Y %H:%M:%S'\n",
    "\n",
    "# Create a datetime object d\n",
    "d = datetime.strptime(s, fmt)\n",
    "\n",
    "# Print d\n",
    "print(d)"
   ]
  },
  {
   "cell_type": "code",
   "execution_count": 34,
   "metadata": {},
   "outputs": [],
   "source": [
    "emp_df = bike.iloc[:, [0, 1]]"
   ]
  },
  {
   "cell_type": "code",
   "execution_count": 35,
   "metadata": {},
   "outputs": [
    {
     "data": {
      "text/html": [
       "<div>\n",
       "<style scoped>\n",
       "    .dataframe tbody tr th:only-of-type {\n",
       "        vertical-align: middle;\n",
       "    }\n",
       "\n",
       "    .dataframe tbody tr th {\n",
       "        vertical-align: top;\n",
       "    }\n",
       "\n",
       "    .dataframe thead th {\n",
       "        text-align: right;\n",
       "    }\n",
       "</style>\n",
       "<table border=\"1\" class=\"dataframe\">\n",
       "  <thead>\n",
       "    <tr style=\"text-align: right;\">\n",
       "      <th></th>\n",
       "      <th>Start date</th>\n",
       "      <th>End date</th>\n",
       "    </tr>\n",
       "  </thead>\n",
       "  <tbody>\n",
       "    <tr>\n",
       "      <td>0</td>\n",
       "      <td>2017-10-01 15:23:25</td>\n",
       "      <td>2017-10-01 15:26:26</td>\n",
       "    </tr>\n",
       "    <tr>\n",
       "      <td>1</td>\n",
       "      <td>2017-10-01 15:42:57</td>\n",
       "      <td>2017-10-01 17:49:59</td>\n",
       "    </tr>\n",
       "    <tr>\n",
       "      <td>2</td>\n",
       "      <td>2017-10-02 06:37:10</td>\n",
       "      <td>2017-10-02 06:42:53</td>\n",
       "    </tr>\n",
       "    <tr>\n",
       "      <td>3</td>\n",
       "      <td>2017-10-02 08:56:45</td>\n",
       "      <td>2017-10-02 09:18:03</td>\n",
       "    </tr>\n",
       "    <tr>\n",
       "      <td>4</td>\n",
       "      <td>2017-10-02 18:23:48</td>\n",
       "      <td>2017-10-02 18:45:05</td>\n",
       "    </tr>\n",
       "  </tbody>\n",
       "</table>\n",
       "</div>"
      ],
      "text/plain": [
       "            Start date             End date\n",
       "0  2017-10-01 15:23:25  2017-10-01 15:26:26\n",
       "1  2017-10-01 15:42:57  2017-10-01 17:49:59\n",
       "2  2017-10-02 06:37:10  2017-10-02 06:42:53\n",
       "3  2017-10-02 08:56:45  2017-10-02 09:18:03\n",
       "4  2017-10-02 18:23:48  2017-10-02 18:45:05"
      ]
     },
     "execution_count": 35,
     "metadata": {},
     "output_type": "execute_result"
    }
   ],
   "source": [
    "emp_df.head()"
   ]
  },
  {
   "cell_type": "code",
   "execution_count": 50,
   "metadata": {},
   "outputs": [],
   "source": [
    "start_end_dates = []\n",
    "for i,j in emp_df.iterrows():\n",
    "    li = (j['Start date'], j['End date'])\n",
    "    start_end_dates.append(li)"
   ]
  },
  {
   "cell_type": "code",
   "execution_count": 51,
   "metadata": {},
   "outputs": [
    {
     "name": "stdout",
     "output_type": "stream",
     "text": [
      "('2017-10-01 15:23:25', '2017-10-01 15:26:26')\n"
     ]
    }
   ],
   "source": [
    "print(start_end_dates[0])"
   ]
  },
  {
   "cell_type": "code",
   "execution_count": 52,
   "metadata": {},
   "outputs": [],
   "source": [
    "# Write down the format string\n",
    "fmt = \"%Y-%m-%d %H:%M:%S\"\n",
    "\n",
    "# Initialize a list for holding the pairs of datetime objects\n",
    "onebike_datetimes = []\n",
    "\n",
    "# Loop over all trips\n",
    "for (start, end) in start_end_dates:\n",
    "  trip = {'start': datetime.strptime(start, fmt),\n",
    "          'end': datetime.strptime(end, fmt)}\n",
    "  \n",
    "  # Append the trip\n",
    "  onebike_datetimes.append(trip)"
   ]
  },
  {
   "cell_type": "code",
   "execution_count": 53,
   "metadata": {},
   "outputs": [
    {
     "data": {
      "text/plain": [
       "{'start': datetime.datetime(2017, 10, 1, 15, 23, 25),\n",
       " 'end': datetime.datetime(2017, 10, 1, 15, 26, 26)}"
      ]
     },
     "execution_count": 53,
     "metadata": {},
     "output_type": "execute_result"
    }
   ],
   "source": [
    "onebike_datetimes[0]"
   ]
  },
  {
   "cell_type": "code",
   "execution_count": 54,
   "metadata": {},
   "outputs": [
    {
     "name": "stdout",
     "output_type": "stream",
     "text": [
      "2017-10-01T15:23:25\n",
      "2017-10-01T15:23:25\n"
     ]
    }
   ],
   "source": [
    "# Import datetime\n",
    "# from datetime import datetime\n",
    "\n",
    "# Pull out the start of the first trip\n",
    "first_start = onebike_datetimes[0]['start']\n",
    "\n",
    "# Format to feed to strftime()\n",
    "fmt = \"%Y-%m-%dT%H:%M:%S\"\n",
    "\n",
    "# Print out date with .isoformat(), then with .strftime() to compare\n",
    "print(first_start.isoformat())\n",
    "print(first_start.strftime(fmt))"
   ]
  },
  {
   "cell_type": "code",
   "execution_count": 55,
   "metadata": {},
   "outputs": [
    {
     "name": "stdout",
     "output_type": "stream",
     "text": [
      "[datetime.datetime(2017, 12, 31, 1, 49, 13), datetime.datetime(2017, 12, 31, 1, 39, 3)]\n"
     ]
    }
   ],
   "source": [
    "# Import datetime\n",
    "# from datetime import datetime\n",
    "\n",
    "# Starting timestamps\n",
    "timestamps = [1514665153, 1514664543]\n",
    "\n",
    "# Datetime objects\n",
    "dts = []\n",
    "\n",
    "# Loop\n",
    "for ts in timestamps:\n",
    "  dts.append(datetime.fromtimestamp(ts))\n",
    "  \n",
    "# Print results\n",
    "print(dts)"
   ]
  },
  {
   "cell_type": "code",
   "execution_count": 56,
   "metadata": {},
   "outputs": [],
   "source": [
    "# Initialize a list for all the trip durations\n",
    "onebike_durations = []\n",
    "\n",
    "for trip in onebike_datetimes:\n",
    "  # Create a timedelta object corresponding to the length of the trip\n",
    "  trip_duration = trip['end'] - trip['start']\n",
    "  \n",
    "  # Get the total elapsed seconds in trip_duration\n",
    "  trip_length_seconds = trip_duration.total_seconds()\n",
    "  \n",
    "  # Append the results to our list\n",
    "  onebike_durations.append(trip_length_seconds)"
   ]
  },
  {
   "cell_type": "code",
   "execution_count": 57,
   "metadata": {},
   "outputs": [
    {
     "data": {
      "text/plain": [
       "181.0"
      ]
     },
     "execution_count": 57,
     "metadata": {},
     "output_type": "execute_result"
    }
   ],
   "source": [
    "onebike_durations[0]"
   ]
  },
  {
   "cell_type": "code",
   "execution_count": 58,
   "metadata": {},
   "outputs": [
    {
     "name": "stdout",
     "output_type": "stream",
     "text": [
      "1178.9310344827586\n"
     ]
    }
   ],
   "source": [
    "# What was the total duration of all trips?\n",
    "total_elapsed_time = sum(onebike_durations)\n",
    "\n",
    "# What was the total number of trips?\n",
    "number_of_trips = len(onebike_durations)\n",
    "  \n",
    "# Divide the total duration by the number of trips\n",
    "print(total_elapsed_time / number_of_trips)"
   ]
  },
  {
   "cell_type": "code",
   "execution_count": 59,
   "metadata": {},
   "outputs": [
    {
     "name": "stdout",
     "output_type": "stream",
     "text": [
      "The shortest trip was -3346.0 seconds\n",
      "The longest trip was 76913.0 seconds\n"
     ]
    }
   ],
   "source": [
    "# Calculate shortest and longest trips\n",
    "shortest_trip = min(onebike_durations)\n",
    "longest_trip = max(onebike_durations)\n",
    "\n",
    "# Print out the results\n",
    "print(\"The shortest trip was \" + str(shortest_trip) + \" seconds\")\n",
    "print(\"The longest trip was \" + str(longest_trip) + \" seconds\")"
   ]
  },
  {
   "cell_type": "code",
   "execution_count": null,
   "metadata": {},
   "outputs": [],
   "source": []
  }
 ],
 "metadata": {
  "kernelspec": {
   "display_name": "Python 3",
   "language": "python",
   "name": "python3"
  },
  "language_info": {
   "codemirror_mode": {
    "name": "ipython",
    "version": 3
   },
   "file_extension": ".py",
   "mimetype": "text/x-python",
   "name": "python",
   "nbconvert_exporter": "python",
   "pygments_lexer": "ipython3",
   "version": "3.7.4"
  }
 },
 "nbformat": 4,
 "nbformat_minor": 4
}
